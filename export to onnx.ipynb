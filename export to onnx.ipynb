{
 "cells": [
  {
   "cell_type": "code",
   "execution_count": 19,
   "metadata": {},
   "outputs": [],
   "source": [
    "import torch\n",
    "import numpy as np\n",
    "import pandas as pd\n",
    "from torch import nn\n",
    "from torch.autograd import Variable\n",
    "from torch.utils.data import Dataset, DataLoader\n",
    "from torch.utils.data.sampler import SubsetRandomSampler"
   ]
  },
  {
   "cell_type": "code",
   "execution_count": 20,
   "metadata": {},
   "outputs": [
    {
     "name": "stdout",
     "output_type": "stream",
     "text": [
      "Gpu available\n"
     ]
    }
   ],
   "source": [
    "if torch.cuda.is_available():\n",
    "    train_on_gpu = True\n",
    "    print(\"Gpu available\")\n",
    "else:\n",
    "    train_on_gpu = False\n",
    "    print(\"Gpu not available\")"
   ]
  },
  {
   "cell_type": "code",
   "execution_count": 21,
   "metadata": {},
   "outputs": [
    {
     "data": {
      "text/plain": [
       "NN(\n",
       "  (fc1): Linear(in_features=51, out_features=64, bias=True)\n",
       "  (fc2): Linear(in_features=64, out_features=32, bias=True)\n",
       "  (fc3): Linear(in_features=32, out_features=16, bias=True)\n",
       "  (fc4): Linear(in_features=16, out_features=3, bias=True)\n",
       "  (relu): ReLU()\n",
       "  (softmax): Softmax(dim=1)\n",
       ")"
      ]
     },
     "execution_count": 21,
     "metadata": {},
     "output_type": "execute_result"
    }
   ],
   "source": [
    "class NN(torch.nn.Module):\n",
    "    def __init__(self, input_dim, output_dim):\n",
    "        super(NN, self).__init__()\n",
    "        self.fc1 = torch.nn.Linear(input_dim, 64)\n",
    "        self.fc2 = torch.nn.Linear(64, 32)\n",
    "        self.fc3 = torch.nn.Linear(32,16)\n",
    "        self.fc4 = torch.nn.Linear(16, output_dim)\n",
    "        self.relu = nn.ReLU()\n",
    "        self.softmax = nn.Softmax(dim=1)\n",
    "        \n",
    "    def forward(self, x):\n",
    "        x = self.relu(self.fc1(x))\n",
    "        x = self.relu(self.fc2(x))\n",
    "        x = self.relu(self.fc3(x))\n",
    "        x = self.softmax(self.fc4(x))\n",
    "        return x\n",
    "    \n",
    "input_dim = 51\n",
    "output_dim  = 3\n",
    "batch_size = 64\n",
    "model = NN(input_dim, output_dim)\n",
    "criterion = torch.nn.CrossEntropyLoss()\n",
    "optimizer = torch.optim.Adam(model.parameters(), lr=0.001)\n",
    "model"
   ]
  },
  {
   "cell_type": "code",
   "execution_count": 22,
   "metadata": {},
   "outputs": [],
   "source": [
    "class CustomLoader(Dataset):\n",
    "    \"\"\"Face Landmarks dataset.\"\"\"\n",
    "\n",
    "    def __init__(self, csv_file):\n",
    "        \"\"\"\n",
    "        Args:\n",
    "            csv_file (string): Path to the csv file with annotations.\n",
    "            root_dir (string): Directory with all the images.\n",
    "            transform (callable, optional): Optional transform to be applied\n",
    "                on a sample.\n",
    "        \"\"\"\n",
    "        self.dataframe = pd.read_csv(csv_file)\n",
    "        self.np_input_X = self.dataframe[['Score_1', 'X_pos_1', ' Y_pos_1', ' Score_2', 'X_pos_2', ' Y_pos_2',\n",
    "                                   ' Score_3', 'X_pos_3', ' Y_pos_3', ' Score_4', 'X_pos_4', ' Y_pos_4',\n",
    "                                   ' Score_5', 'X_pos_5', ' Y_pos_5', ' Score_6', 'X_pos_6', ' Y_pos_6',\n",
    "                                   ' Score_7', 'X_pos_7', ' Y_pos_7', ' Score_8', 'X_pos_8', ' Y_pos_8',\n",
    "                                   ' Score_9', 'X_pos_9', ' Y_pos_9', ' Score_10', 'X_pos_10', ' Y_pos_10',\n",
    "                                   ' Score_11', 'X_pos_11', ' Y_pos_11', ' Score_12', 'X_pos_12',\n",
    "                                   ' Y_pos_12', ' Score_13', 'X_pos_13', ' Y_pos_13', ' Score_14',\n",
    "                                   'X_pos_14', ' Y_pos_14', ' Score_15', 'X_pos_15', ' Y_pos_15',\n",
    "                                   ' Score_16', 'X_pos_16', ' Y_pos_16', ' Score_17', 'X_pos_17',\n",
    "                                   ' Y_pos_17']].to_numpy(dtype=np.float32)\n",
    "        \n",
    "        self.np_input_y = self.dataframe['mapped_output'].to_numpy()\n",
    "        \n",
    "\n",
    "        \n",
    "#         self.input_X = (self.np_input_X).ToTensor()\n",
    "#         self.input_y = torch.from_numpy(self.np_input_y)\n",
    "        \n",
    "    def __len__(self):\n",
    "        return len(self.dataframe)\n",
    "\n",
    "    def __getitem__(self, idx):\n",
    "        if torch.is_tensor(idx):\n",
    "            idx = idx.tolist()\n",
    "            \n",
    "        self.input_X = torch.from_numpy(self.np_input_X)\n",
    "        self.input_y = torch.from_numpy(self.np_input_y)\n",
    "        \n",
    "        sample = {'input': self.input_X[idx], 'output': self.input_y[idx]}\n",
    "        return sample\n",
    "    \n",
    "trainset = CustomLoader(csv_file='Final/train.csv')\n",
    "testset = CustomLoader(csv_file='Final/test.csv')\n",
    "\n",
    "# TO Making sure data is loaded\n",
    "# for i in range(len(trainset)):\n",
    "#     sample = trainset[i]\n",
    "#     print(sample['input'], \"\\n\", sample['output'])\n",
    "#     break\n",
    "# type(sample['input'])"
   ]
  },
  {
   "cell_type": "code",
   "execution_count": 23,
   "metadata": {},
   "outputs": [],
   "source": [
    "valid_size = 0.2\n",
    "num_train = len(trainset)\n",
    "indices = list(range(num_train))\n",
    "np.random.shuffle(indices)\n",
    "split = int(np.floor(valid_size * num_train))\n",
    "train_idx, valid_idx = indices[split:], indices[:split]\n",
    "\n",
    "train_sampler = SubsetRandomSampler(train_idx)\n",
    "valid_sampler = SubsetRandomSampler(valid_idx)"
   ]
  },
  {
   "cell_type": "code",
   "execution_count": 24,
   "metadata": {},
   "outputs": [],
   "source": [
    "testloader = torch.utils.data.DataLoader(testset, batch_size=batch_size)"
   ]
  },
  {
   "cell_type": "code",
   "execution_count": 25,
   "metadata": {},
   "outputs": [],
   "source": [
    "model.load_state_dict(torch.load('output/posenet.pt'))\n",
    "dummy_input = Variable(torch.randn(1, 51))\n",
    "torch.onnx.export(model, dummy_input, \"output/posenet.onnx\")"
   ]
  },
  {
   "cell_type": "code",
   "execution_count": 26,
   "metadata": {},
   "outputs": [],
   "source": [
    "import onnx\n",
    "from onnx_tf.backend import prepare\n",
    "\n",
    "# Load the ONNX file\n",
    "model = onnx.load('output/posenet.onnx')\n",
    "\n",
    "# Import the ONNX model to Tensorflow\n",
    "tf_rep = prepare(model)"
   ]
  },
  {
   "cell_type": "code",
   "execution_count": 27,
   "metadata": {},
   "outputs": [],
   "source": [
    "# # Input nodes to the model\n",
    "# print('inputs:', tf_rep.inputs)\n",
    "\n",
    "# # Output nodes from the model\n",
    "# print('outputs:', tf_rep.outputs)\n",
    "\n",
    "# # All nodes in the model\n",
    "# print('tensor_dict:')\n",
    "# print(tf_rep.tensor_dict)"
   ]
  },
  {
   "cell_type": "code",
   "execution_count": 29,
   "metadata": {},
   "outputs": [],
   "source": [
    "for content in testloader:\n",
    "    # move tensors to GPU if CUDA is available\n",
    "    data = content['input']\n",
    "    target = content['output']\n",
    "    break"
   ]
  },
  {
   "cell_type": "code",
   "execution_count": 30,
   "metadata": {
    "scrolled": true
   },
   "outputs": [
    {
     "data": {
      "text/plain": [
       "tensor([0, 2, 1, 2, 1, 2, 2, 2, 1, 1, 2, 0, 0, 0, 2, 2, 0, 2, 2, 1, 0, 0, 1, 1,\n",
       "        0, 2, 1, 1, 1, 0, 0, 1, 1, 2, 2, 1, 2, 1, 2, 0, 0, 1, 2, 2, 1, 1, 1, 1,\n",
       "        0, 2, 0, 0, 0, 1, 1, 2, 2, 2, 2, 0, 2, 0, 2, 2])"
      ]
     },
     "execution_count": 30,
     "metadata": {},
     "output_type": "execute_result"
    }
   ],
   "source": [
    "output = tf_rep.run(data.cpu())\n",
    "torch.max(torch.from_numpy(output[0]), 1)[1]"
   ]
  },
  {
   "cell_type": "code",
   "execution_count": 41,
   "metadata": {},
   "outputs": [
    {
     "data": {
      "text/plain": [
       "1"
      ]
     },
     "execution_count": 41,
     "metadata": {},
     "output_type": "execute_result"
    }
   ],
   "source": [
    "output = tf_rep.run(data[2].view(1,51).cpu())\n",
    "torch.max(torch.from_numpy(output[0]), 1)[1].item()"
   ]
  },
  {
   "cell_type": "code",
   "execution_count": null,
   "metadata": {},
   "outputs": [],
   "source": []
  },
  {
   "cell_type": "code",
   "execution_count": null,
   "metadata": {},
   "outputs": [],
   "source": []
  },
  {
   "cell_type": "code",
   "execution_count": null,
   "metadata": {},
   "outputs": [],
   "source": []
  },
  {
   "cell_type": "code",
   "execution_count": null,
   "metadata": {},
   "outputs": [],
   "source": []
  },
  {
   "cell_type": "code",
   "execution_count": null,
   "metadata": {},
   "outputs": [],
   "source": []
  },
  {
   "cell_type": "code",
   "execution_count": null,
   "metadata": {},
   "outputs": [],
   "source": []
  },
  {
   "cell_type": "code",
   "execution_count": null,
   "metadata": {},
   "outputs": [],
   "source": []
  },
  {
   "cell_type": "code",
   "execution_count": null,
   "metadata": {},
   "outputs": [],
   "source": []
  },
  {
   "cell_type": "code",
   "execution_count": null,
   "metadata": {},
   "outputs": [],
   "source": []
  },
  {
   "cell_type": "code",
   "execution_count": null,
   "metadata": {},
   "outputs": [],
   "source": []
  },
  {
   "cell_type": "code",
   "execution_count": null,
   "metadata": {},
   "outputs": [],
   "source": []
  },
  {
   "cell_type": "code",
   "execution_count": null,
   "metadata": {},
   "outputs": [],
   "source": []
  },
  {
   "cell_type": "code",
   "execution_count": null,
   "metadata": {},
   "outputs": [],
   "source": []
  },
  {
   "cell_type": "code",
   "execution_count": null,
   "metadata": {},
   "outputs": [],
   "source": []
  }
 ],
 "metadata": {
  "kernelspec": {
   "display_name": "Python 3",
   "language": "python",
   "name": "python3"
  },
  "language_info": {
   "codemirror_mode": {
    "name": "ipython",
    "version": 3
   },
   "file_extension": ".py",
   "mimetype": "text/x-python",
   "name": "python",
   "nbconvert_exporter": "python",
   "pygments_lexer": "ipython3",
   "version": "3.8.6rc1"
  }
 },
 "nbformat": 4,
 "nbformat_minor": 4
}
